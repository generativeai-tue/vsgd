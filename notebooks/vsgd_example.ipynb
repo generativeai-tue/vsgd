{
 "cells": [
  {
   "cell_type": "code",
   "execution_count": 1,
   "metadata": {},
   "outputs": [],
   "source": [
    "import matplotlib as mpl\n",
    "import matplotlib\n",
    "import matplotlib.pyplot as plt\n",
    "\n",
    "import numpy as np\n",
    "import os\n",
    "import torch\n",
    "\n",
    "mpl.rcParams['text.usetex'] = True\n",
    "mpl.rcParams['text.latex.preamble'] = r'\\usepackage{amsmath}'\n",
    "plt.rcParams['figure.figsize'] = [9, 7]\n",
    "\n",
    "\n",
    "# Append ../src to path\n",
    "import sys\n",
    "source_path =  os.path.join(os.getcwd(), '../src')\n",
    "if source_path not in sys.path:\n",
    "    sys.path.append(source_path)\n",
    "    "
   ]
  },
  {
   "cell_type": "markdown",
   "metadata": {},
   "source": [
    "## 1. Get the datasets"
   ]
  },
  {
   "cell_type": "code",
   "execution_count": 2,
   "metadata": {},
   "outputs": [],
   "source": [
    "from torchvision.datasets import MNIST\n",
    "from torch.utils.data import DataLoader\n",
    "from torchvision import transforms\n",
    "from torchvision.transforms import ToTensor\n",
    "\n",
    "train_dataset = MNIST(root='../data/', download=True, train=True, transform=ToTensor())\n",
    "test_dataset = MNIST(root='../data/', download=True, train=False, transform=ToTensor())\n"
   ]
  },
  {
   "cell_type": "markdown",
   "metadata": {},
   "source": [
    "## 2. Define NN\n",
    "\n",
    "In this example, we use the convmixer architecture\n",
    "\n",
    "\n",
    "code source: https://github.com/locuslab/convmixer-cifar10/blob/main/train.py"
   ]
  },
  {
   "cell_type": "code",
   "execution_count": 3,
   "metadata": {},
   "outputs": [],
   "source": [
    "import torch.nn as nn \n",
    "\n",
    "class Residual(nn.Module):\n",
    "    def __init__(self, fn):\n",
    "        super().__init__()\n",
    "        self.fn = fn\n",
    "\n",
    "    def forward(self, x):\n",
    "        return self.fn(x) + x\n",
    "    \n",
    "def build_convmixer(dim, patch_size, kernel_size, depth, num_classes):\n",
    "    return nn.Sequential(\n",
    "            nn.Conv2d(1, dim, kernel_size=patch_size, stride=patch_size),\n",
    "            nn.GELU(),\n",
    "            nn.BatchNorm2d(dim),\n",
    "            *[\n",
    "                nn.Sequential(\n",
    "                    Residual(\n",
    "                        nn.Sequential(\n",
    "                            nn.Conv2d(\n",
    "                                dim, dim, kernel_size, groups=dim, padding=\"same\"\n",
    "                            ),\n",
    "                            nn.GELU(),\n",
    "                            nn.BatchNorm2d(dim),\n",
    "                        )\n",
    "                    ),\n",
    "                    nn.Conv2d(dim, dim, kernel_size=1),\n",
    "                    nn.GELU(),\n",
    "                    nn.BatchNorm2d(dim),\n",
    "                )\n",
    "                for _ in range(depth)\n",
    "            ],\n",
    "            nn.AdaptiveAvgPool2d((1, 1)),\n",
    "            nn.Flatten(),\n",
    "            nn.Linear(dim, num_classes)\n",
    "    )"
   ]
  },
  {
   "cell_type": "markdown",
   "metadata": {},
   "source": [
    "## 3. Train and test functions"
   ]
  },
  {
   "cell_type": "code",
   "execution_count": 4,
   "metadata": {},
   "outputs": [],
   "source": [
    "\n",
    "def train(net, train_dataset, optimizer, max_epochs, batch_size):\n",
    "    device = torch.device(\"cuda:0\" if torch.cuda.is_available() else \"cpu\")\n",
    "    net.to(device)\n",
    "\n",
    "    criterion = nn.CrossEntropyLoss()\n",
    "    trainloader = DataLoader(train_dataset, \n",
    "                             batch_size=batch_size, \n",
    "                             shuffle=True, \n",
    "                             num_workers=2)\n",
    "\n",
    "    logs = {'train_loss': []}\n",
    "    for epoch in range(max_epochs):  # loop over the dataset multiple times\n",
    "\n",
    "        running_loss = 0.0\n",
    "        for i, data in enumerate(trainloader, 0):\n",
    "            # get the inputs; data is a list of [inputs, labels]\n",
    "            inputs, labels = data\n",
    "            inputs = inputs.to(device)\n",
    "            labels = labels.to(device)\n",
    "            \n",
    "\n",
    "            # zero the parameter gradients\n",
    "            optimizer.zero_grad()\n",
    "\n",
    "            # forward + backward + optimize\n",
    "            outputs = net(inputs)\n",
    "            loss = criterion(outputs, labels)\n",
    "            loss.backward()\n",
    "            optimizer.step()\n",
    "\n",
    "            running_loss += loss.item()\n",
    "            logs['train_loss'].append(loss.item())\n",
    "            \n",
    "        print(f\"Epoch {epoch+1}, loss: {running_loss / len(trainloader): .2f}\")\n",
    "    print('Finished Training')\n",
    "    return net, logs\n",
    "\n",
    "def test(test_dataset, net, batch_size):\n",
    "    \n",
    "    device = torch.device(\"cuda:0\" if torch.cuda.is_available() else \"cpu\")\n",
    "    net.to(device)\n",
    "\n",
    "    criterion = nn.CrossEntropyLoss()\n",
    "    testloader = DataLoader(test_dataset, \n",
    "                            batch_size=batch_size, \n",
    "                            shuffle=False, \n",
    "                            num_workers=2,\n",
    "                            drop_last=False,\n",
    "                            )\n",
    "\n",
    "    # logs = {'test_accuracy': []}\n",
    "    correct_clfs = 0.\n",
    "    running_loss = 0.\n",
    "    for i, data in enumerate(testloader, 0):\n",
    "        # get the inputs; data is a list of [inputs, labels]\n",
    "        inputs, labels = data\n",
    "        inputs = inputs.to(device)\n",
    "        labels = labels.to(device)\n",
    "        \n",
    "        # forward \n",
    "        logits = net(inputs)\n",
    "        loss = criterion(logits, labels)\n",
    "        \n",
    "        running_loss += loss.item()\n",
    "\n",
    "        correct_clfs += (logits.argmax(dim=1) == labels).float().sum().item()\n",
    "    N_points = len(test_dataset)\n",
    "    return running_loss / N_points, correct_clfs / N_points\n"
   ]
  },
  {
   "cell_type": "markdown",
   "metadata": {},
   "source": [
    "## 4. Compare to Adam and SGD"
   ]
  },
  {
   "cell_type": "code",
   "execution_count": 14,
   "metadata": {},
   "outputs": [
    {
     "name": "stdout",
     "output_type": "stream",
     "text": [
      "Epoch 1, loss:  0.27\n",
      "Epoch 2, loss:  0.10\n",
      "Epoch 3, loss:  0.09\n",
      "Finished Training\n",
      "Test accuracy:  98.08%\n"
     ]
    }
   ],
   "source": [
    "from vsgd import VSGD\n",
    "\n",
    "net = build_convmixer(dim=16, patch_size=2, kernel_size=3, depth=4, num_classes=10)\n",
    "vsgd = VSGD(net.parameters(), lr=0.01, ps=1e-7)\n",
    "net, logs_vsgd = train(net, train_dataset, vsgd, max_epochs=3, batch_size=32)\n",
    "logs_vsgd['test_loss'], logs_vsgd['test_acc'] = test(test_dataset, net, 32)\n",
    "\n",
    "acc = logs_vsgd['test_acc']*100\n",
    "print(f'Test accuracy:  {acc:.2f}%')"
   ]
  },
  {
   "cell_type": "code",
   "execution_count": 17,
   "metadata": {},
   "outputs": [
    {
     "name": "stdout",
     "output_type": "stream",
     "text": [
      "Epoch 1, loss:  0.57\n",
      "Epoch 2, loss:  0.13\n",
      "Epoch 3, loss:  0.10\n",
      "Finished Training\n",
      "Test accuracy:  97.81%\n"
     ]
    }
   ],
   "source": [
    "from torch.optim import SGD\n",
    "\n",
    "sgd_net = build_convmixer(dim=16, patch_size=2, kernel_size=3, depth=4, num_classes=10)\n",
    "sgd = SGD(sgd_net.parameters(), lr=0.01, momentum=0.9)\n",
    "sgd_net, logs_sgd = train(sgd_net, train_dataset, sgd, max_epochs=3, batch_size=32)\n",
    "logs_sgd['test_loss'], logs_sgd['test_acc'] = test(test_dataset, sgd_net, 32)\n",
    "\n",
    "acc = logs_sgd['test_acc']*100\n",
    "print(f'Test accuracy:  {acc:.2f}%')"
   ]
  },
  {
   "cell_type": "code",
   "execution_count": 15,
   "metadata": {},
   "outputs": [
    {
     "name": "stdout",
     "output_type": "stream",
     "text": [
      "Epoch 1, loss:  0.24\n",
      "Epoch 2, loss:  0.10\n",
      "Epoch 3, loss:  0.09\n",
      "Finished Training\n",
      "Test accuracy:  97.68%\n"
     ]
    }
   ],
   "source": [
    "from torch.optim import Adam\n",
    "\n",
    "adam_net = build_convmixer(dim=16, patch_size=2, kernel_size=3, depth=4, num_classes=10)\n",
    "adam = Adam(adam_net.parameters(), lr=0.01)\n",
    "adam_net, logs_adam = train(adam_net, train_dataset, adam, max_epochs=3, batch_size=32)\n",
    "logs_adam['test_loss'], logs_adam['test_acc'] = test(test_dataset, adam_net, batch_size=32)\n",
    "\n",
    "acc = logs_adam['test_acc']*100\n",
    "print(f'Test accuracy:  {acc:.2f}%')"
   ]
  },
  {
   "cell_type": "code",
   "execution_count": 22,
   "metadata": {},
   "outputs": [
    {
     "data": {
      "image/png": "[encoded data removed]",
      "text/plain": [
       "<Figure size 864x360 with 2 Axes>"
      ]
     },
     "metadata": {
      "needs_background": "light"
     },
     "output_type": "display_data"
    }
   ],
   "source": [
    "fig, ax = plt.subplots(1, 2, figsize=(12, 5))\n",
    "ax[0].plot(logs_vsgd['train_loss'], label='VSGD', alpha=0.7)\n",
    "ax[0].plot(logs_sgd['train_loss'], label='SGD', alpha=0.7)\n",
    "ax[0].plot(logs_adam['train_loss'], label='Adam', alpha=0.7)\n",
    "ax[0].legend(fontsize=20)\n",
    "ax[0].grid()\n",
    "ax[0].set_title('Training loss', fontsize=24)\n",
    "\n",
    "ax[1].bar(['VSGD', 'SGD', 'Adam'], [logs_vsgd['test_acc'], logs_sgd['test_acc'], logs_adam['test_acc']]);\n",
    "ax[1].grid()\n",
    "ax[1].set_ylim(0.97, 1.0);\n",
    "ax[1].set_title('Test accuracy', fontsize=24);"
   ]
  },
  {
   "cell_type": "code",
   "execution_count": null,
   "metadata": {},
   "outputs": [],
   "source": []
  }
 ],
 "metadata": {
  "kernelspec": {
   "display_name": "BASE_ENV",
   "language": "python",
   "name": "base_env"
  },
  "language_info": {
   "codemirror_mode": {
    "name": "ipython",
    "version": 3
   },
   "file_extension": ".py",
   "mimetype": "text/x-python",
   "name": "python",
   "nbconvert_exporter": "python",
   "pygments_lexer": "ipython3",
   "version": "3.6.12"
  }
 },
 "nbformat": 4,
 "nbformat_minor": 4
}
